{
 "cells": [
  {
   "cell_type": "code",
   "execution_count": 1,
   "metadata": {},
   "outputs": [],
   "source": [
    "import numpy as np\n",
    "import math\n",
    "import cv2"
   ]
  },
  {
   "cell_type": "code",
   "execution_count": 2,
   "metadata": {},
   "outputs": [],
   "source": [
    "shape = (500, 500, 3)"
   ]
  },
  {
   "cell_type": "markdown",
   "metadata": {},
   "source": [
    "## 1.绘制线段"
   ]
  },
  {
   "cell_type": "code",
   "execution_count": 3,
   "metadata": {},
   "outputs": [],
   "source": [
    "line = np.zeros(shape, np.uint8)\n",
    "\n",
    "cv2.line(line, (100, 100), (400, 400), (0, 0, 255))\n",
    "cv2.line(line, (100, 200), (400, 200), (0, 255, 255), 20)\n",
    "cv2.line(line, (100, 300), (400, 300), (0, 255, 0), 20, cv2.LINE_AA)\n",
    "\n",
    "cv2.imshow(\"line\", line)\n",
    "cv2.waitKey(0)\n",
    "cv2.destroyAllWindows()"
   ]
  },
  {
   "cell_type": "markdown",
   "metadata": {},
   "source": [
    "## 2.绘制三角形"
   ]
  },
  {
   "cell_type": "code",
   "execution_count": 4,
   "metadata": {},
   "outputs": [],
   "source": [
    "tra = np.zeros(shape, np.uint8)\n",
    "cv2.line(tra, (200, 150), (50, 250), (25, 100, 255))\n",
    "cv2.line(tra, (50, 250), (400, 380), (25, 100, 255))\n",
    "cv2.line(tra, (400, 380), (200, 150), (25, 100, 255))\n",
    "cv2.imshow(\"tra\", tra)\n",
    "cv2.waitKey(0)\n",
    "cv2.destroyAllWindows()"
   ]
  },
  {
   "cell_type": "markdown",
   "metadata": {},
   "source": [
    "## 3.绘制矩形"
   ]
  },
  {
   "cell_type": "code",
   "execution_count": 5,
   "metadata": {},
   "outputs": [],
   "source": [
    "rect = np.zeros(shape, np.uint8)\n",
    "cv2.rectangle(rect, (50, 100), (200, 300), (255, 0, 0), -1) #-1表示填充颜色\n",
    "cv2.imshow(\"rect\", rect)\n",
    "cv2.waitKey(0)\n",
    "cv2.destroyAllWindows()"
   ]
  },
  {
   "cell_type": "markdown",
   "metadata": {},
   "source": [
    "## 4.绘制圆形"
   ]
  },
  {
   "cell_type": "code",
   "execution_count": 7,
   "metadata": {},
   "outputs": [],
   "source": [
    "circle = np.zeros(shape, np.uint8)\n",
    "cv2.circle(circle, (250, 250), (50), (0, 255, 0), -1)\n",
    "cv2.imshow(\"circle\", circle)\n",
    "cv2.waitKey(0)\n",
    "cv2.destroyAllWindows()"
   ]
  },
  {
   "cell_type": "markdown",
   "metadata": {},
   "source": [
    "## 5.绘制椭圆"
   ]
  },
  {
   "cell_type": "code",
   "execution_count": 8,
   "metadata": {},
   "outputs": [],
   "source": [
    "ellipse = np.zeros(shape, np.uint8)\n",
    "cv2.ellipse(ellipse, (256,256), (150, 100), 0, 0, 180, (255, 255 ,0), -1)\n",
    "cv2.imshow(\"ellipse\", ellipse)\n",
    "cv2.waitKey(0)\n",
    "cv2.destroyAllWindows()"
   ]
  },
  {
   "cell_type": "markdown",
   "metadata": {},
   "source": [
    "## 6.绘制任意多边形"
   ]
  },
  {
   "cell_type": "code",
   "execution_count": 9,
   "metadata": {},
   "outputs": [],
   "source": [
    "polylines = np.zeros(shape, np.uint8)\n",
    "points = np.array([[150, 50],[140, 140], [200, 170],[250, 250],[150, 150]], np.int32)\n",
    "points = points.reshape((-1, 1, 2))\n",
    "cv2.polylines(polylines, [points], True, (0, 255, 255))\n",
    "cv2.imshow(\"polylines\", polylines)\n",
    "cv2.waitKey(0)\n",
    "cv2.destroyAllWindows()"
   ]
  },
  {
   "cell_type": "code",
   "execution_count": 10,
   "metadata": {},
   "outputs": [
    {
     "data": {
      "text/plain": [
       "array([[[150,  50]],\n",
       "\n",
       "       [[140, 140]],\n",
       "\n",
       "       [[200, 170]],\n",
       "\n",
       "       [[250, 250]],\n",
       "\n",
       "       [[150, 150]]])"
      ]
     },
     "execution_count": 10,
     "metadata": {},
     "output_type": "execute_result"
    }
   ],
   "source": [
    "points"
   ]
  },
  {
   "cell_type": "markdown",
   "metadata": {},
   "source": [
    "## 7.绘制文字"
   ]
  },
  {
   "cell_type": "code",
   "execution_count": 11,
   "metadata": {},
   "outputs": [],
   "source": [
    "img = cv2.imread(\"img/image.jpg\", 1)\n",
    "font = cv2.FONT_HERSHEY_SIMPLEX\n",
    "cv2.rectangle(img, (200, 100), (500, 400), (0, 255, 0), 2)\n",
    "cv2.putText(img, \"this is flower\", (100, 300), font, 1, (200, 100, 255), 2, cv2.LINE_AA)\n",
    "cv2.imshow(\"image with text\", img)\n",
    "cv2.waitKey(0)\n",
    "cv2.destroyAllWindows()"
   ]
  },
  {
   "cell_type": "markdown",
   "metadata": {},
   "source": [
    "## 8.图片覆盖图片"
   ]
  },
  {
   "cell_type": "code",
   "execution_count": 13,
   "metadata": {},
   "outputs": [],
   "source": [
    "img = cv2.imread(\"img/image.jpg\", 1)\n",
    "height = int(img.shape[0]*0.2)\n",
    "width = int(img.shape[1]*0.2)\n",
    "imgResize = cv2.resize(img, (width, height))\n",
    "for i in range(0, height):\n",
    "    for j in range(0, width):\n",
    "        img[i+200, j+300] = imgResize[i, j]\n",
    "cv2.imshow(\"image with image\", img)\n",
    "cv2.waitKey(0)\n",
    "cv2.destroyAllWindows()"
   ]
  },
  {
   "cell_type": "code",
   "execution_count": null,
   "metadata": {},
   "outputs": [],
   "source": []
  }
 ],
 "metadata": {
  "kernelspec": {
   "display_name": "Python 3",
   "language": "python",
   "name": "python3"
  },
  "language_info": {
   "codemirror_mode": {
    "name": "ipython",
    "version": 3
   },
   "file_extension": ".py",
   "mimetype": "text/x-python",
   "name": "python",
   "nbconvert_exporter": "python",
   "pygments_lexer": "ipython3",
   "version": "3.6.2"
  }
 },
 "nbformat": 4,
 "nbformat_minor": 2
}
