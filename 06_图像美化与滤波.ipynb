{
 "cells": [
  {
   "cell_type": "code",
   "execution_count": 1,
   "metadata": {},
   "outputs": [],
   "source": [
    "import numpy as np\n",
    "import matplotlib.pyplot as plt\n",
    "import cv2"
   ]
  },
  {
   "cell_type": "markdown",
   "metadata": {},
   "source": [
    "## 1.彩色图片直方图"
   ]
  },
  {
   "cell_type": "code",
   "execution_count": 2,
   "metadata": {},
   "outputs": [],
   "source": [
    "def ImageHist(image, type):\n",
    "    color = (255, 255, 255)\n",
    "    windowName = 'Gary'\n",
    "    if type == 31:\n",
    "        color = (255, 0, 0)\n",
    "        windowName = 'B hist'\n",
    "    if type == 32:\n",
    "        color = (0, 255, 0)\n",
    "        windowName = 'G hist'\n",
    "    if type == 33:\n",
    "        color = (0, 0, 255)\n",
    "        windowName = 'R hist'\n",
    "        \n",
    "    hist = cv2.calcHist([image], [0], None, [256], [0.0, 255.0])\n",
    "    minV, maxV, minL, maxL = cv2.minMaxLoc(hist)\n",
    "    histImage = np.zeros([256, 256, 3], np.uint8)\n",
    "    for h in range(256):\n",
    "        intenNormal = int(hist[h] * 256 / maxV)\n",
    "        cv2.line(histImage, (h, 256), (h, 256 - intenNormal), color)\n",
    "    cv2.imshow(windowName, histImage)\n",
    "    return histImage\n",
    "\n",
    "img = cv2.imread(\"img/image.jpg\", 1)\n",
    "channels = cv2.split(img) # BGR ==>B, G, R\n",
    "for i in range(0, 3):\n",
    "    ImageHist(channels[i], 31+i)\n",
    "cv2.waitKey(0)\n",
    "cv2.destroyAllWindows()"
   ]
  },
  {
   "cell_type": "markdown",
   "metadata": {},
   "source": [
    "### 彩色直方图源码\n",
    "- 本质：统计每个像素 出现的概率：0~255，P"
   ]
  },
  {
   "cell_type": "code",
   "execution_count": 3,
   "metadata": {
    "collapsed": true
   },
   "outputs": [
    {
     "data": {
      "image/png": "[encoded data removed]",
      "text/plain": [
       "<matplotlib.figure.Figure at 0x1f9459ed7b8>"
      ]
     },
     "metadata": {},
     "output_type": "display_data"
    },
    {
     "data": {
      "image/png": "[encoded data removed]",
      "text/plain": [
       "<matplotlib.figure.Figure at 0x1f941fe6550>"
      ]
     },
     "metadata": {},
     "output_type": "display_data"
    },
    {
     "data": {
      "image/png": "[encoded data removed]",
      "text/plain": [
       "<matplotlib.figure.Figure at 0x1f946af4278>"
      ]
     },
     "metadata": {},
     "output_type": "display_data"
    }
   ],
   "source": [
    "img = cv2.imread(\"img/image.jpg\", 1)\n",
    "imgShape = img.shape\n",
    "height = imgShape[0]\n",
    "width = imgShape[1]\n",
    "\n",
    "count_b = np.zeros(256, np.float)\n",
    "count_g = np.zeros(256, np.float)\n",
    "count_r = np.zeros(256, np.float)\n",
    "for i in range(0, height):\n",
    "    for j in range(0, width):\n",
    "        (b, g, r) = img[i, j]\n",
    "        index_b = int(b)\n",
    "        index_g = int(g)\n",
    "        index_r = int(r)\n",
    "        count_b[index_b] = count_b[index_b] + 1\n",
    "        count_g[index_g] = count_g[index_g] + 1\n",
    "        count_r[index_r] = count_r[index_r] + 1\n",
    "        \n",
    "for i in range(0, 256):\n",
    "    count_b[i] = count_b[i] / (height * width)\n",
    "    count_g[i] = count_g[i] / (height * width)\n",
    "    count_r[i] = count_r[i] / (height * width)\n",
    "    \n",
    "x = np.linspace(0, 255, 256)\n",
    "y1 = count_b\n",
    "plt.figure()\n",
    "plt.bar(x, y1, 0.9, alpha=1, color='b')\n",
    "\n",
    "y2 = count_g\n",
    "plt.figure()\n",
    "plt.bar(x, y2, 0.9, alpha=1, color='g')\n",
    "\n",
    "y3 = count_r\n",
    "plt.figure()\n",
    "plt.bar(x, y3, 0.9, alpha=1, color='r')\n",
    "plt.show()"
   ]
  },
  {
   "cell_type": "markdown",
   "metadata": {},
   "source": [
    "### 灰度直方图源码\n",
    "- 本质：统计每个像素灰度 出现的概率：0~255，P"
   ]
  },
  {
   "cell_type": "code",
   "execution_count": 4,
   "metadata": {
    "collapsed": true
   },
   "outputs": [
    {
     "data": {
      "image/png": "[encoded data removed]",
      "text/plain": [
       "<matplotlib.figure.Figure at 0x1f94704bb38>"
      ]
     },
     "metadata": {},
     "output_type": "display_data"
    }
   ],
   "source": [
    "img = cv2.imread(\"img/image.jpg\", 1)\n",
    "imgShape = img.shape\n",
    "height = imgShape[0]\n",
    "width = imgShape[1]\n",
    "\n",
    "gray = cv2.cvtColor(img, cv2.COLOR_BGR2GRAY)\n",
    "count = np.zeros(256, np.float)\n",
    "for i in range(0, height):\n",
    "    for j in range(0, width):\n",
    "        pixel = gray[i, j]\n",
    "        index = int(pixel)\n",
    "        count[index] = count[index] + 1\n",
    "for i in range(0, 256):\n",
    "    count[i] = count[i] / (height * width)\n",
    "\n",
    "x = np.linspace(0, 255, 256)\n",
    "y = count\n",
    "plt.bar(x, y, 0.9, alpha=1, color='b')\n",
    "plt.show()"
   ]
  },
  {
   "cell_type": "markdown",
   "metadata": {},
   "source": [
    "## 2.直方图均衡化"
   ]
  },
  {
   "cell_type": "markdown",
   "metadata": {},
   "source": [
    "- 灰度图"
   ]
  },
  {
   "cell_type": "code",
   "execution_count": 5,
   "metadata": {},
   "outputs": [],
   "source": [
    "gray = cv2.cvtColor(img, cv2.COLOR_BGR2GRAY)\n",
    "dst_equalizeHist = cv2.equalizeHist(gray)\n",
    "cv2.imshow(\"dst_equalizeHist\", dst_equalizeHist)\n",
    "cv2.waitKey(0)\n",
    "cv2.destroyAllWindows()"
   ]
  },
  {
   "cell_type": "markdown",
   "metadata": {},
   "source": [
    "### 灰度直方图均衡化"
   ]
  },
  {
   "cell_type": "code",
   "execution_count": 10,
   "metadata": {},
   "outputs": [],
   "source": [
    "img = cv2.imread(\"img/image.jpg\", 1)\n",
    "imgShape = img.shape\n",
    "height = imgShape[0]\n",
    "width = imgShape[1]\n",
    "\n",
    "gray = cv2.cvtColor(img, cv2.COLOR_BGR2GRAY)\n",
    "count = np.zeros(256, np.float)\n",
    "for i in range(0, height):\n",
    "    for j in range(0, width):\n",
    "        pixel = gray[i, j]\n",
    "        index = int(pixel)\n",
    "        count[index] = count[index] + 1\n",
    "for i in range(0, 256):\n",
    "    count[i] = count[i] / (height * width)\n",
    "\n",
    "# 计算累计概率\n",
    "sum1 = float(0)\n",
    "for i in range(0, 256):\n",
    "    sum1 = sum1 + count[i]\n",
    "    count[i] = sum1\n",
    "\n",
    "#计算映射表\n",
    "map1 = np.zeros(256, np.uint16)\n",
    "for i in range(0, 256):\n",
    "    map1[i] = np.uint16(count[i] * 255)\n",
    "#映射\n",
    "for i in range(0, height):\n",
    "    for j in range(width):\n",
    "        pixel = gray[i, j]\n",
    "        gray[i, j] = map1[pixel]\n",
    "        \n",
    "cv2.imshow(\"gray\", gray)\n",
    "cv2.waitKey(0)\n",
    "cv2.destroyAllWindows()"
   ]
  },
  {
   "cell_type": "markdown",
   "metadata": {},
   "source": [
    "- 彩色图"
   ]
  },
  {
   "cell_type": "code",
   "execution_count": 6,
   "metadata": {},
   "outputs": [],
   "source": [
    "(b, g, r) = cv2.split(img) #通道分解\n",
    "bH = cv2.equalizeHist(b)\n",
    "gH = cv2.equalizeHist(g)\n",
    "rH = cv2.equalizeHist(r)\n",
    "result = cv2.merge((bH, gH, rH)) #通道合成\n",
    "cv2.imshow(\"result\", result)\n",
    "cv2.waitKey(0)\n",
    "cv2.destroyAllWindows()"
   ]
  },
  {
   "cell_type": "markdown",
   "metadata": {},
   "source": [
    "- YUV"
   ]
  },
  {
   "cell_type": "code",
   "execution_count": 7,
   "metadata": {},
   "outputs": [],
   "source": [
    "imgYUV = cv2.cvtColor(img, cv2.COLOR_BGR2YCrCb)\n",
    "channelYUV = cv2.split(imgYUV)\n",
    "channelYUV[0] = cv2.equalizeHist(channelYUV[0])\n",
    "channels2 = cv2.merge(channelYUV)\n",
    "result2 = cv2.cvtColor(channels2, cv2.COLOR_YCrCb2BGR)\n",
    "cv2.imshow(\"result\", result2)\n",
    "cv2.waitKey(0)\n",
    "cv2.destroyAllWindows()"
   ]
  },
  {
   "cell_type": "markdown",
   "metadata": {},
   "source": [
    "## 3.图片修补"
   ]
  },
  {
   "cell_type": "code",
   "execution_count": 8,
   "metadata": {},
   "outputs": [],
   "source": [
    "for i in range(200, 300):\n",
    "    img[i, 200] = (255, 255, 255)\n",
    "    img[i, 200+1] = (255, 255, 255)\n",
    "    img[i, 200-1] = (255, 255, 255)\n",
    "    \n",
    "for i in range(150,250):\n",
    "    img[250,i] = (255, 255, 255)\n",
    "    img[250+1, i] = (255, 255, 255)\n",
    "    img[250-1, i] = (255, 255, 255)\n",
    "\n",
    "cv2.imwrite(\"img/damage.jpg\", img)\n",
    "cv2.imshow(\"img/damage.jpg\", img)\n",
    "cv2.waitKey(0)\n",
    "cv2.destroyAllWindows()"
   ]
  },
  {
   "cell_type": "code",
   "execution_count": 9,
   "metadata": {},
   "outputs": [],
   "source": [
    "damageImg = cv2.imread(\"img/damage.jpg\", 1)\n",
    "damageImgShape = damageImg.shape\n",
    "height = damageImgShape[0]\n",
    "width = damageImgShape[1]\n",
    "\n",
    "paint = np.zeros((height, width, 1), np.uint8)\n",
    "\n",
    "for i in range(200, 300):\n",
    "    paint[i, 200] = 255\n",
    "    paint[i, 200+1] = 255\n",
    "    paint[i, 200-1] = 255\n",
    "    \n",
    "for i in range(150,250):\n",
    "    paint[250,i] = 255\n",
    "    paint[250+1, i] = 255\n",
    "    paint[250-1, i] = 255\n",
    "    \n",
    "imgDst = cv2.inpaint(img, paint, 3, cv2.INPAINT_TELEA)\n",
    "cv2.imshow(\"paint\", paint)\n",
    "cv2.imshow(\"imgDst\", imgDst)\n",
    "cv2.waitKey(0)\n",
    "cv2.destroyAllWindows()"
   ]
  },
  {
   "cell_type": "markdown",
   "metadata": {},
   "source": [
    "## 4.亮度增强"
   ]
  },
  {
   "cell_type": "code",
   "execution_count": 13,
   "metadata": {},
   "outputs": [],
   "source": [
    "img = cv2.imread(\"img/image.jpg\", 1)\n",
    "imgShape = img.shape\n",
    "height = imgShape[0]\n",
    "width = imgShape[1]\n",
    "\n",
    "dst_img = np.zeros((height, width, 3), np.uint8)\n",
    "for i in range(0, height):\n",
    "    for j in range(0, width):\n",
    "        (b, g, r) = img[i, j]\n",
    "        bb = int(b) + 40\n",
    "        gg = int(g) + 40\n",
    "        rr = int(r) + 40\n",
    "        \n",
    "        if bb > 255:\n",
    "            bb = 255\n",
    "        if gg > 255:\n",
    "            gg = 255     \n",
    "        if rr > 255:\n",
    "            rr = 255\n",
    "        dst_img[i, j] = (bb, gg, rr)\n",
    "\n",
    "cv2.imshow(\"src_img\", img)\n",
    "cv2.imshow(\"dst_img\", dst_img)\n",
    "cv2.waitKey(0)\n",
    "cv2.destroyAllWindows()"
   ]
  },
  {
   "cell_type": "markdown",
   "metadata": {},
   "source": [
    "## 5.磨皮美白\n",
    "- 双边滤波"
   ]
  },
  {
   "cell_type": "code",
   "execution_count": 14,
   "metadata": {},
   "outputs": [],
   "source": [
    "img = cv2.imread(\"img/1.png\", 1)\n",
    "dst = cv2.bilateralFilter(img, 15, 35, 35)\n",
    "cv2.imshow(\"src\", img)\n",
    "cv2.imshow(\"dst\", dst)\n",
    "cv2.waitKey(0)\n",
    "cv2.destroyAllWindows()"
   ]
  },
  {
   "cell_type": "markdown",
   "metadata": {},
   "source": [
    "## 6.高斯滤波"
   ]
  },
  {
   "cell_type": "code",
   "execution_count": 18,
   "metadata": {},
   "outputs": [],
   "source": [
    "img = cv2.imread(\"img/image11.jpg\", 1)\n",
    "dst = cv2.GaussianBlur(img, (5, 5), 1.5)\n",
    "cv2.imshow(\"src\", img)\n",
    "cv2.imshow(\"dst\", dst)\n",
    "cv2.waitKey(0)\n",
    "cv2.destroyAllWindows()"
   ]
  },
  {
   "cell_type": "markdown",
   "metadata": {},
   "source": [
    "## 7.均值滤波"
   ]
  },
  {
   "cell_type": "code",
   "execution_count": 19,
   "metadata": {},
   "outputs": [],
   "source": [
    "img = cv2.imread(\"img/image11.jpg\", 1)\n",
    "imgShape = img.shape\n",
    "height = imgShape[0]\n",
    "width = imgShape[1]\n",
    "\n",
    "dst_img = np.zeros((height, width, 3), np.uint8)\n",
    "for i in range(3, height-3):\n",
    "    for j in range(3, width-3):\n",
    "        sum_b = int(0)\n",
    "        sum_g = int(0)\n",
    "        sum_r = int(0)\n",
    "        for m in range(-3, 3): #-3 -2 -1 0 1 2\n",
    "            for n in range(-3, 3):\n",
    "                (b, g, r) = img[i+m,j+n]\n",
    "                sum_b = sum_b + int(b)\n",
    "                sum_g = sum_g + int(g)\n",
    "                sum_r = sum_r + int(r)\n",
    "                \n",
    "        b = np.uint8(sum_b/36)\n",
    "        g = np.uint8(sum_g/36)\n",
    "        r = np.uint8(sum_r/36)\n",
    "        dst_img[i,j] = (b,g,r)\n",
    "        \n",
    "cv2.imshow(\"src\", img)\n",
    "cv2.imshow(\"dst_img\", dst_img)\n",
    "cv2.waitKey(0)\n",
    "cv2.destroyAllWindows()"
   ]
  }
 ],
 "metadata": {
  "kernelspec": {
   "display_name": "Python 3",
   "language": "python",
   "name": "python3"
  },
  "language_info": {
   "codemirror_mode": {
    "name": "ipython",
    "version": 3
   },
   "file_extension": ".py",
   "mimetype": "text/x-python",
   "name": "python",
   "nbconvert_exporter": "python",
   "pygments_lexer": "ipython3",
   "version": "3.6.2"
  }
 },
 "nbformat": 4,
 "nbformat_minor": 2
}
